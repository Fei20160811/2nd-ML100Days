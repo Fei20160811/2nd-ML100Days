{
 "cells": [
  {
   "cell_type": "markdown",
   "metadata": {},
   "source": [
    "## 練習時間\n",
    "相信大家目前都能夠初步了解機器學習專案的流程及步驟，今天的作業希望大家能夠看看全球機器學習巨頭們在做的機器學習專案。以 google 為例，下圖是 Google 內部專案使用機器學習的數量，隨著時間進展，現在早已超過 2000 個專案在使用 ML。"
   ]
  },
  {
   "cell_type": "markdown",
   "metadata": {},
   "source": [
    "![image](https://cdn-images-1.medium.com/max/800/1*U_L8qI8RmYS-MOBrYvXhSA.png)"
   ]
  },
  {
   "cell_type": "markdown",
   "metadata": {},
   "source": [
    "底下幫同學整理幾間知名企業的 blog 或機器學習網站 (自行搜尋也可)，請挑選一篇文章閱讀並試著回答\n",
    "1. 專案的目標？ (要解決什麼問題）\n",
    "2. 使用的技術是？ (只需知道名稱即可，例如：使用 CNN 卷積神經網路做影像分類)\n",
    "3. 資料來源？ "
   ]
  },
  {
   "cell_type": "markdown",
   "metadata": {},
   "source": [
    "- [Google AI blog](https://ai.googleblog.com/)\n",
    "- [Facebook Research blog](https://research.fb.com/blog/)\n",
    "- [Apple machine learning journal](https://machinelearning.apple.com/)\n",
    "- [機器之心](https://www.jiqizhixin.com/)\n",
    "- [雷鋒網](http://www.leiphone.com/category/ai)"
   ]
  },
  {
   "cell_type": "markdown",
   "metadata": {},
   "source": [
    "https://www.leiphone.com/news/201612/9RsW6XkyfSfKiGEj.html\n",
    "\n",
    "1.專案的目標？（康夫子）<br/>\n",
    "建構知識庫，並賦予知識庫一些推理能力，達到“輔助”醫生、患者的目的<br/>\n",
    "醫生: <br/>\n",
    "     全科 => 知識面<br/>\n",
    "     專科 => 臨床路徑監控（包含醫囑下達？）<br/>\n",
    "患者:偏重邏輯問答(包含語言理解)<br/>\n",
    "\n",
    "2.使用的技術是？ <br/>\n",
    "知識圖譜(pattern learning＆bootstrapping、無結構化文本抽取)<br/>\n",
    "深度學習<br/>\n",
    "\n",
    "3.資料來源<br/>\n",
    "權威的醫療文獻，如：醫療數據、診療指南、以及相關論文<br/>\n",
    "病例數據<br/>\n",
    "網路上獲取的科普資訊、醫患問答數據<br/>"
   ]
  }
 ],
 "metadata": {
  "kernelspec": {
   "display_name": "Python 3",
   "language": "python",
   "name": "python3"
  },
  "language_info": {
   "codemirror_mode": {
    "name": "ipython",
    "version": 3
   },
   "file_extension": ".py",
   "mimetype": "text/x-python",
   "name": "python",
   "nbconvert_exporter": "python",
   "pygments_lexer": "ipython3",
   "version": "3.7.1"
  }
 },
 "nbformat": 4,
 "nbformat_minor": 2
}
